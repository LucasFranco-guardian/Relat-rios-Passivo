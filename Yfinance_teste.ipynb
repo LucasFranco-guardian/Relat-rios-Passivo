{
 "cells": [
  {
   "cell_type": "code",
   "execution_count": 5,
   "metadata": {},
   "outputs": [],
   "source": [
    "import setuptools\n",
    "import pandas as pd\n",
    "import yfinance as yf\n",
    "import numpy as np\n",
    "from datetime import datetime, timedelta\n",
    "import os\n",
    "import matplotlib.pyplot as plt\n",
    "import pandas_datareader as pdr"
   ]
  },
  {
   "cell_type": "code",
   "execution_count": 19,
   "metadata": {},
   "outputs": [
    {
     "name": "stderr",
     "output_type": "stream",
     "text": [
      "[*********************100%***********************]  2 of 2 completed"
     ]
    },
    {
     "name": "stdout",
     "output_type": "stream",
     "text": [
      "Ticker\n",
      "GARE11.SA    0.694438\n",
      "TRXF11.SA    1.943109\n",
      "dtype: float64\n"
     ]
    },
    {
     "name": "stderr",
     "output_type": "stream",
     "text": [
      "\n"
     ]
    }
   ],
   "source": [
    "fundos = ['GARE11.SA', 'TRXF11.SA']\n",
    "\n",
    "data_inicial = '2024-12-02'\n",
    "data_final = '2024-12-30'\n",
    "\n",
    "tab_cotacoes = yf.download(fundos, data_inicial, data_final)['Close']\n",
    "tab_cotacoes['TRXF11.SA'] = tab_cotacoes['TRXF11.SA'].round(2)\n",
    "tab_cotacoes.reset_index()\n",
    "\n",
    "var_mensal = (tab_cotacoes.loc['2024-12-27'] - tab_cotacoes.loc['2024-12-02'])/tab_cotacoes.loc['2024-12-02']*100\n",
    "\n",
    "print(var_mensal)"
   ]
  },
  {
   "cell_type": "code",
   "execution_count": null,
   "metadata": {},
   "outputs": [],
   "source": []
  }
 ],
 "metadata": {
  "kernelspec": {
   "display_name": ".venv",
   "language": "python",
   "name": "python3"
  },
  "language_info": {
   "codemirror_mode": {
    "name": "ipython",
    "version": 3
   },
   "file_extension": ".py",
   "mimetype": "text/x-python",
   "name": "python",
   "nbconvert_exporter": "python",
   "pygments_lexer": "ipython3",
   "version": "3.12.5"
  }
 },
 "nbformat": 4,
 "nbformat_minor": 2
}
