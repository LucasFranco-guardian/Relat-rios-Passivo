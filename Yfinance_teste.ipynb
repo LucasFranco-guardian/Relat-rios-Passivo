{
 "cells": [
  {
   "cell_type": "code",
   "execution_count": 5,
   "metadata": {},
   "outputs": [],
   "source": [
    "import setuptools\n",
    "import pandas as pd\n",
    "import yfinance as yf\n",
    "import numpy as np\n",
    "from datetime import datetime, timedelta\n",
    "import os\n",
    "import matplotlib.pyplot as plt\n",
    "import pandas_datareader as pdr"
   ]
  },
  {
   "cell_type": "code",
   "execution_count": 31,
   "metadata": {},
   "outputs": [
    {
     "name": "stderr",
     "output_type": "stream",
     "text": [
      "[*********************100%***********************]  49 of 49 completed"
     ]
    },
    {
     "name": "stdout",
     "output_type": "stream",
     "text": [
      "-0.85\n"
     ]
    },
    {
     "name": "stderr",
     "output_type": "stream",
     "text": [
      "\n"
     ]
    }
   ],
   "source": [
    "fundos = ['GARE11.SA', 'TRXF11.SA', 'KNRI11.SA', 'TVRI11.SA', 'ALZR11.SA', 'RBRP11.SA', 'SARE11.SA', 'ZAVI11.SA', 'HGRU11.SA',\n",
    "          'RBVA11.SA', 'VIUR11.SA', 'HGLG11.SA', 'BTLG11.SA', 'XPLG11.SA', 'LVBI11.SA', 'BRCO11.SA', 'VILG11.SA', 'HSLG11.SA',\n",
    "          'GGRC11.SA', 'TRBL11.SA', 'XPIN11.SA', 'RBRL11.SA', 'BTAL11.SA', 'PATL11.SA', 'BLMG11.SA', 'XPML11.SA',\n",
    "          'VISC11.SA', 'HGBS11.SA', 'HSML11.SA', 'GZIT11.SA', 'MALL11.SA', 'BPML11.SA', 'PVBI11.SA', 'BRCR11.SA', 'JSRE11.SA',\n",
    "          'HGRE11.SA', 'BROF11.SA', 'GTWR11.SA', 'KORE11.SA', 'VINO11.SA', 'RCRB11.SA', 'HGPO11.SA', 'TEPP11.SA', 'AIEC11.SA',\n",
    "          'FATN11.SA', 'RECT11.SA', 'RZAT11.SA', 'AJFI11.SA', 'CPSH11.SA']\n",
    "\n",
    "data_inicial = '2024-12-02'\n",
    "data_final = '2024-12-30'\n",
    "\n",
    "tab_cotacoes = yf.download(fundos, data_inicial, data_final)['Close']\n",
    "tab_cotacoes['TRXF11.SA'] = tab_cotacoes['TRXF11.SA'].round(2)\n",
    "tab_cotacoes.reset_index()\n",
    "\n",
    "var_mensal = (tab_cotacoes.loc['2024-12-27'] - tab_cotacoes.loc['2024-12-02'])/tab_cotacoes.loc['2024-12-02']*100\n",
    "\n",
    "\n",
    "tab_mensal = pd.DataFrame(var_mensal)\n",
    "tab_mensal = tab_mensal.rename(columns={0:'VARIAÇÃO'})\n",
    "media_tijolo = (tab_mensal['VARIAÇÃO'].mean()).round(2)\n",
    "print(media_tijolo)"
   ]
  },
  {
   "cell_type": "code",
   "execution_count": null,
   "metadata": {},
   "outputs": [],
   "source": []
  }
 ],
 "metadata": {
  "kernelspec": {
   "display_name": ".venv",
   "language": "python",
   "name": "python3"
  },
  "language_info": {
   "codemirror_mode": {
    "name": "ipython",
    "version": 3
   },
   "file_extension": ".py",
   "mimetype": "text/x-python",
   "name": "python",
   "nbconvert_exporter": "python",
   "pygments_lexer": "ipython3",
   "version": "3.12.5"
  }
 },
 "nbformat": 4,
 "nbformat_minor": 2
}
