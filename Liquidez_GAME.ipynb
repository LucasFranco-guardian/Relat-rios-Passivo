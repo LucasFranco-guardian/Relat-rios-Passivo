{
 "cells": [
  {
   "cell_type": "markdown",
   "metadata": {},
   "source": [
    "# 1."
   ]
  },
  {
   "cell_type": "code",
   "execution_count": 1,
   "metadata": {},
   "outputs": [],
   "source": [
    "import pandas as pd\n",
    "import numpy as np\n",
    "import matplotlib.pyplot as plt\n",
    "import seaborn as sb\n",
    "import os\n",
    "import matplotlib.font_manager as fm\n",
    "import yfinance as yf\n",
    "import datetime\n",
    "from datetime import timedelta, datetime\n",
    "import xlwings as xw\n",
    "import pptx as pptx\n",
    "\n",
    "pd.set_option('display.max_columns', 100)\n",
    "pd.set_option('display.max_rows', 1000)"
   ]
  },
  {
   "cell_type": "markdown",
   "metadata": {},
   "source": [
    "# 2."
   ]
  },
  {
   "cell_type": "code",
   "execution_count": null,
   "metadata": {},
   "outputs": [],
   "source": [
    "#CHAMO AS DUAS BASES DA B3\n",
    "dfNOVA = pd.read_excel('29.08.xlsx')\n",
    "dfANTIGA = pd.read_excel('28.08.xlsx')\n",
    "\n",
    "#INSIRO O CAMINHO DAS FONTES\n",
    "caminho_Avenir = r'C:\\\\Users\\\\LucasCavalcante\\\\AppData\\\\Local\\\\Microsoft\\\\Windows\\\\Fonts\\\\Avenir Next LT Pro Regular.otf'\n",
    "caminho_Geometeos = r'C:\\\\Users\\\\LucasCavalcante\\\\AppData\\\\Local\\\\Microsoft\\\\Windows\\\\Fonts\\\\Geometos Rounded.ttf'\n",
    "\n",
    "#ALIMENTO DUAS VARIAVEIS COM AS FONTES\n",
    "Avenir = fm.FontProperties(fname=caminho_Avenir)\n",
    "Geometeos = fm.FontProperties(fname=caminho_Geometeos)\n",
    "\n",
    "#FAÇO O MATPLTOLIB RECONHEÇER AS FONTES COMO FAMILIARIES\n",
    "plt.rcParams['font.family'] = Avenir.get_name()\n",
    "plt.rcParams['font.family'] = Avenir.get_name()"
   ]
  },
  {
   "cell_type": "markdown",
   "metadata": {},
   "source": [
    "# 3."
   ]
  },
  {
   "cell_type": "code",
   "execution_count": null,
   "metadata": {},
   "outputs": [],
   "source": [
    "#FAÇO UMA VERIFICAÇÃO PARA VER SE OS DOIS ARQUIVOS POSSUEM A MESMA QUANTIDADE DE COTAS\n",
    "antg = dfANTIGA['TOTAL'].sum()\n",
    "nov = dfNOVA['TOTAL'].sum()\n",
    "#VALOR COTA DIA\n",
    "cota_d_1 = 8.49\n",
    "#QUANTIDADE COTAS NEGOCIADAS\n",
    "cotas_dia = 9935\n",
    "#DATA DA ANALISE\n",
    "data = datetime(2025, 8, 29)\n",
    "print('NOVO {}, ANTIGO {}'.format(nov, antg))"
   ]
  },
  {
   "cell_type": "markdown",
   "metadata": {},
   "source": [
    "# 4."
   ]
  },
  {
   "cell_type": "code",
   "execution_count": null,
   "metadata": {},
   "outputs": [],
   "source": [
    "def categorias(cat):\n",
    "    if cat > 0 and cat <= 1000:\n",
    "        return 1\n",
    "    elif cat > 1000 and cat <= 5000:\n",
    "        return 2\n",
    "    elif cat > 5000 and cat <=20000:\n",
    "        return 3\n",
    "    elif cat > 20000 and cat <= 50000:\n",
    "        return 4\n",
    "    elif cat > 50000 and cat <= 100000:\n",
    "        return 5\n",
    "    elif cat > 100000 and cat<=500000:\n",
    "        return 6\n",
    "    elif cat > 500000 and cat <= 1000000:\n",
    "        return 7\n",
    "    elif cat > 1000000 and cat <= 3000000:\n",
    "        return 8\n",
    "    elif cat > 3000000 and cat <= 15000000:\n",
    "        return 9\n",
    "    elif cat > 15000000:\n",
    "        return 10\n",
    "    else:\n",
    "        return 11\n",
    "    \n",
    "\n",
    "def movimentação(valor):\n",
    "    if valor == 0:\n",
    "        return 'Não Movimentou'\n",
    "    else:\n",
    "        return 'Movimentou'\n",
    "\n",
    "def operação(x):\n",
    "    if x < 0:\n",
    "        return 'Venda'\n",
    "    elif x == 0:\n",
    "        return 'Manteve'\n",
    "    else:\n",
    "        return 'Compra'\n",
    "\n",
    "def tag(x):\n",
    "    if x == 'ASSOCIACAO CARIATATIVO-LITERARIA SAO JOSE':\n",
    "        return 1\n",
    "    elif x == 'BB FUNDO DE FUNDOS - FUNDO DE INVESTIMENTO IMOBILIARIO' or x == 'BB PREVIDENCIA MULTIMERCADO ALOCACAO IMOBLIARIA FI':\n",
    "        return 2\n",
    "    elif x == 'RIO BRAVO CAMPECHE FIC DE FIM' or x == 'RIO BRAVO FUNDO DE FII' or x == 'RIO BRAVO VALOR IMOBILIRIO MASTER FUNDO DE INVESTIMENTO EM C' or x == 'CAIXA RIO BRAVO FUNDO DE FI IMOBILIARIO FI' or x == 'CAIXA RIO BRAVO FUNDO DE FI IMOBILIARIO II':\n",
    "        return 3\n",
    "    elif x == 'REAL INVESTOR 70 PREVIDENCIA FIM' or x == 'REAL INVESTOR FUNDO DE INVESTIMENTO IMOBILIÁRIO' or x == 'REAL INVESTOR IMOBILIARIO MASTER FIC DE FIM CP':\n",
    "        return 4\n",
    "    else:\n",
    "        return 0\n",
    "\n",
    "\n",
    "\n",
    "def tratar_venda(tipo, val):\n",
    "    if tipo == 'Venda' and val <0:\n",
    "        val = val*-1\n",
    "        return val\n",
    "    else:\n",
    "        return val\n",
    "\n",
    "\n",
    "def realizar_calculo(w, t_atual, t_novo, calculo):\n",
    "    if w > 0:\n",
    "        calculo = t_atual - t_novo\n",
    "        return calculo\n",
    "    if w == 0:\n",
    "        return w"
   ]
  },
  {
   "cell_type": "markdown",
   "metadata": {},
   "source": [
    "# 5."
   ]
  },
  {
   "cell_type": "code",
   "execution_count": null,
   "metadata": {},
   "outputs": [],
   "source": [
    "#POR MEIO DA VARIAVEL DOCUMENTO EU ENCONTRO COTISTAS EXISTEM NA DFNOVA E NÃO EXISTE NA DFANTIGA, ASSIM EU CONSIGO VALIDAR QUANTOS COTISTAS NOVOS ENTRARAM\n",
    "NC = dfNOVA[~dfNOVA['DOCUMENTO'].isin(dfANTIGA['DOCUMENTO'])]\n",
    "#RENOMEIO A COLUNA DE TOTAL PARA TOTAL NOVO PARA EVENTUALMENTE CONCATENAR ESSE DATAFRAME NO DATAFRAME ATUAL DE MANEIRA CORRETA\n",
    "NC = NC.rename(columns = {'TOTAL':'TOTAL_NOVO'})\n",
    "#VERIFICO A QUANTIDADE DE COTAS EM POSSE DE COTISTAS NOVOS\n",
    "teste2 = NC['TOTAL_NOVO'].sum()\n",
    "#RETORNO DA QUANTIDADE DE COTAS NOVAS\n",
    "teste2\n",
    "\n",
    "novos_cotistas = NC['DOCUMENTO'].nunique()\n",
    "\n",
    "#RETORNO DA QUANTIDADE DE COTAS NOVAS\n",
    "print('O numero de novos cotistas foi de {}, e a quantidade de cotas em posse de novos cotistas foi de {}'.format(novos_cotistas, teste2))"
   ]
  },
  {
   "cell_type": "markdown",
   "metadata": {},
   "source": [
    "# 6."
   ]
  },
  {
   "cell_type": "code",
   "execution_count": null,
   "metadata": {},
   "outputs": [],
   "source": [
    "#FAÇO UMA VERIFICAÇÃO DE DUPLICADOS\n",
    "duplicado = dfANTIGA[dfANTIGA['DOCUMENTO'].duplicated(keep = False)]\n",
    "#RETORNO DA VERIFICAÇÃO DE DUPLICADOS\n",
    "duplicado"
   ]
  },
  {
   "cell_type": "markdown",
   "metadata": {},
   "source": [
    "# 7."
   ]
  },
  {
   "cell_type": "code",
   "execution_count": null,
   "metadata": {},
   "outputs": [],
   "source": [
    "#FAÇO A UNIÃO USANDO O DF ANTIGO COMO BASE.\n",
    "merge_df = pd.merge(dfANTIGA, dfNOVA[['DOCUMENTO', 'TOTAL']],\n",
    "                    on = ['DOCUMENTO'],\n",
    "                    how = 'left',\n",
    "                    suffixes = ('', '_NOVO'))\n",
    "#VERIFICO SE A QUANTIDADE DE COTAS DO DF ATUAL NÃO FOI ALTERADO, O NUMERO INCIALMENTE É MENOR POIS OS NOVOS COTISTAS NÃO FORAM ADICIONADOS\n",
    "teste4 = merge_df['TOTAL_NOVO'].sum()\n",
    "#RETORNO DA QUANTIDADE DE COTAS\n",
    "teste4"
   ]
  },
  {
   "cell_type": "markdown",
   "metadata": {},
   "source": [
    "# 8."
   ]
  },
  {
   "cell_type": "code",
   "execution_count": null,
   "metadata": {},
   "outputs": [],
   "source": [
    "#RESULTADO DO DATAFRAME DA UNIÃO\n",
    "merge_df"
   ]
  },
  {
   "cell_type": "markdown",
   "metadata": {},
   "source": [
    "# 9."
   ]
  },
  {
   "cell_type": "code",
   "execution_count": null,
   "metadata": {},
   "outputs": [],
   "source": [
    "df_agrupado = merge_df.groupby(['DOCUMENTO']).size().reset_index(name='Quantidade')\n",
    "#FAÇO A VERIFICAÇÃO PARA DESCOBRIR SE APÓS A UNIÃO DOS DATAFRAMES ALGUM COTISTA FOI DUPLICADO\n",
    "df_duplicados = df_agrupado[df_agrupado['Quantidade'] > 1]\n",
    "#RETORNO DA VERIFICAÇÃO\n",
    "print(df_duplicados)"
   ]
  },
  {
   "cell_type": "markdown",
   "metadata": {},
   "source": [
    "# 10."
   ]
  },
  {
   "cell_type": "code",
   "execution_count": null,
   "metadata": {},
   "outputs": [],
   "source": [
    "# CRIANDO UM NOVO DATAFRAME QUE É A CONCATENAÇÃO DO DATAFRAME DA UNIÃO DO ANTIGO COM O NOVO E O DATAFRAME QUE CONTÉM APENAS OS NOVOS COTISTAS\n",
    "df_final = pd.concat([merge_df, NC])\n",
    "# VERIFICANDO SE O TOTAL NOVO TEM A MESMA QUANTIDADE DE COTISTAS QUE O DF NOVO (ESSE NUMERO DEVE BATER, CASO DE DIFERENÇA, É PORQUE EXISTEM COTISTAS SENDO CONSIDERADOS A MAIS OU A MENOS)\n",
    "teste6 = df_final['TOTAL_NOVO'].sum()\n",
    "#RESULTADO DA VERIFICAÇÃO\n",
    "teste6"
   ]
  },
  {
   "cell_type": "markdown",
   "metadata": {},
   "source": [
    "# 11."
   ]
  },
  {
   "cell_type": "code",
   "execution_count": null,
   "metadata": {},
   "outputs": [],
   "source": [
    "#PREÇO DO DIA ANALISADO\n",
    "\n",
    "#TROCANDO OS VALORES DE NOT A NUMBER POR 0\n",
    "df_final['TOTAL_NOVO'] = df_final['TOTAL_NOVO'].fillna(0)\n",
    "df_final['TOTAL'] = df_final['TOTAL'].fillna(0)\n",
    "\n",
    "#CRIANDO A COLUNA DE VARIAÇÃO DE COTAS\n",
    "df_final['VAR_COTAS'] = df_final['TOTAL_NOVO'] - df_final['TOTAL']\n",
    "\n",
    "#SUBSTITUINDO OS 0 POR 0.0001\n",
    "#df_final['VAR_COTAS'] = df_final['VAR_COTAS'].replace(0, 0.0001)\n",
    "\n",
    "#CRIANDO UMA COLUNA QUE INDICA O TIPO DE OPERAÇÃO\n",
    "df_final['OPERAÇÃO'] = df_final['VAR_COTAS'].apply(operação)\n",
    "\n",
    "#CRIANDO AS COLUNAS COM VALORES MONETARIOS\n",
    "df_final['FINANCEIRO_ATUAL'] = df_final['TOTAL']*cota_d_1\n",
    "df_final['FINANCEIRO_NOVO'] = df_final['TOTAL_NOVO']*cota_d_1\n",
    "df_final['VAR_PRECO'] = df_final['VAR_COTAS']*cota_d_1\n",
    "\n",
    "#df_final['TAG'] = df_final['NOME'].apply(tag)\n",
    "\n",
    "#troca = {1:'ASSOCIACAO CARITATIVO', 2:'BB', 3:'RIO BRAVO', 4:'REAL INVESTOR'}\n",
    "\n",
    "#df_final['GRATIS'] = df_final['TAG'].map(troca)\n",
    "\n",
    "#df_final['NOME'] = df_final.apply(lambda row: row['GRATIS'] if row['TAG'] > 0 else row['NOME'], axis=1)\n",
    "\n",
    "mapear = {1: '0-1k', 2:'1k-5k', 3:'5k-20k', 4:'20k-50k', 5:'50k-100k', 6:'100k-500k', 7:'500k-1M', 8:'1M-3M', 9:'3M-15M',10:'>15M'}\n",
    "\n",
    "#CRIANDO AS CATEGORIAS BASEADO NO FINANCEIRO_ATUAL\n",
    "df_final['CATEGORIAS'] = np.where(df_final['FINANCEIRO_ATUAL'] > 0,\n",
    "                                  df_final['FINANCEIRO_ATUAL'].apply(categorias),\n",
    "                                  df_final['FINANCEIRO_NOVO'].apply(categorias))\n",
    "#CRIANDO A COLUNA DE CATEGORIAS ATUAIS BASEADO NO FINANCEIRO_NOVO\n",
    "df_final['CATEGORIAS ATUAIS'] = np.where(df_final['FINANCEIRO_NOVO'] >= 0,\n",
    "                                  df_final['FINANCEIRO_NOVO'].apply(categorias),\n",
    "                                  df_final['FINANCEIRO_ATUAL'].apply(categorias))\n",
    "\n",
    "#CRIANDO UMA NOVA COLUNA DE CATEGORIAS ANTIGAS E MAPEANDO ELAS, PARA DEIXAR NA FORMA DE FAIXA DE INVESTIMENTO\n",
    "df_final['CATEGORIAS ANTIGAS'] = df_final['CATEGORIAS'].map(mapear)\n",
    "df_final['CATEGORIAS ATUAIS'] = df_final['CATEGORIAS ATUAIS'].map(mapear)\n",
    "\n",
    "#============================================================================== FILTRANDO O DATAFRAME ==============================================================================#\n",
    "\n",
    "#CRIO UM NOVO DATAFRAME EXCLUINDO OS MANTEVE, POIS ELES SÃO DESNECESSARIOS PARA AS ANALISES QUE QUERO FAZER\n",
    "#df_final_filtrado = df_final[df_final['OPERAÇÃO'] != 'Manteve']\n",
    "\n",
    "#ALTERO O VALOR DE VENDA DE NEGATIVO PARA POSITIVO\n",
    "df_final['VAR_PRECO'] = np.where(df_final['OPERAÇÃO'] == \"Venda\", \n",
    "                                                 df_final['VAR_PRECO']* -1,\n",
    "                                                 df_final['VAR_PRECO'])\n",
    "\n",
    "#FAÇO A SOMA DE TODAS AS MOVIMENTAÇÕES QUE ACONTECERAM NO PERIODO NOVO\n",
    "delta_sum = df_final['VAR_PRECO'].sum()\n",
    "\n",
    "#CRIO UMA COLUNA DE % DE PARTICIPAÇÃO DE ACORDO COM A % QUE A MOVIMENTAÇÃO TEVE NO VOLUME DO DIA\n",
    "df_final['Participação'] = (df_final['VAR_PRECO']/delta_sum)*100\n",
    "\n",
    "#COLOCO EM %\n",
    "df_final['Participação'] = df_final['Participação'].apply(lambda x: f'{x:.3f}%')\n",
    "\n",
    "df_final['FINANCEIRO_ATUAL'] = df_final['FINANCEIRO_ATUAL'].round(2)\n",
    "df_final['FINANCEIRO_NOVO'] = df_final['FINANCEIRO_NOVO'].round(2)\n",
    "df_final['VAR_PRECO'] = df_final['VAR_PRECO'].round(2)\n",
    "\n",
    "#COLUNA SUPORTE PARA CRIAR OS GRÁFICOS\n",
    "df_final['Participação_sup'] = (df_final['VAR_PRECO']/delta_sum)*100"
   ]
  },
  {
   "cell_type": "markdown",
   "metadata": {},
   "source": [
    "# 12."
   ]
  },
  {
   "cell_type": "code",
   "execution_count": null,
   "metadata": {},
   "outputs": [],
   "source": [
    "df_final"
   ]
  },
  {
   "cell_type": "markdown",
   "metadata": {},
   "source": [
    "# 13."
   ]
  },
  {
   "cell_type": "code",
   "execution_count": null,
   "metadata": {},
   "outputs": [],
   "source": [
    "zeraram = (df_final['TOTAL_NOVO'] == 0).sum()\n",
    "novos_cotistas = (df_final['TOTAL'] == 0).sum()\n",
    "net = novos_cotistas-zeraram\n",
    "print('temos {} cotistas que zeraram e {} novos cotistas e o net foi de {} cotistas'.format(zeraram, novos_cotistas, net))\n",
    "\n",
    "mov_cotistas = {'CATEGORIAS':['Novos Cotistas', 'Zeraram', 'Net'],\n",
    "                'QUANTIDADE':[novos_cotistas, zeraram, net]}\n",
    "\n",
    "offset = 1e5"
   ]
  },
  {
   "cell_type": "markdown",
   "metadata": {},
   "source": [
    "# 14."
   ]
  },
  {
   "cell_type": "code",
   "execution_count": null,
   "metadata": {},
   "outputs": [],
   "source": [
    "df_teste = df_final[df_final['OPERAÇÃO'] == 'Manteve']"
   ]
  },
  {
   "cell_type": "markdown",
   "metadata": {},
   "source": [
    "# 15."
   ]
  },
  {
   "cell_type": "code",
   "execution_count": null,
   "metadata": {},
   "outputs": [],
   "source": [
    "duplicado_dffinal = df_final[df_final['DOCUMENTO'].duplicated(keep = False)]\n",
    "\n",
    "duplicado_dffinal"
   ]
  },
  {
   "cell_type": "markdown",
   "metadata": {},
   "source": [
    "# 16."
   ]
  },
  {
   "cell_type": "code",
   "execution_count": null,
   "metadata": {},
   "outputs": [],
   "source": [
    "df_filtrad_venda = df_final.query('OPERAÇÃO == \"Venda\"') \n",
    "df_filtrad_compra = df_final.query('OPERAÇÃO == \"Compra\"')\n",
    "df_filtrado_PF = df_final.query('PF_PJ == \"PF\"')\n",
    "df_filtrado_PJ = df_final.query('PF_PJ == \"PJ\"')\n",
    "\n",
    "#CRIANDO VARIAVEIS PARA DIVIDIR A QUANTIDADE DE COMPRA E VENDA\n",
    "total_compra = df_final.query('OPERAÇÃO == \"Compra\"')['VAR_PRECO'].sum()\n",
    "total_venda = df_final.query('OPERAÇÃO == \"Venda\"')['VAR_PRECO'].sum()\n",
    "\n",
    "#COMPARANDO A QUANTIDADE DE COMPRA X VENDA (O VALOR DEVE SER IGUAL OU ESTAR PRÓXIMO, CASO A DIFERENÇA SEJA DISCREPANTE, SIGNIFICA QUE EXISTE ALGUM ERRO DE CALCULO OU SEPARAÇÃO)\n",
    "print('O total financeiro de compra foi {}, e o total financeiro de vendas foi {}'.format(total_compra, total_venda))"
   ]
  },
  {
   "cell_type": "markdown",
   "metadata": {},
   "source": [
    "# 17."
   ]
  },
  {
   "cell_type": "code",
   "execution_count": null,
   "metadata": {},
   "outputs": [],
   "source": [
    "#FAZENDO A MESMO VERIFICAÇÃO ACIMA SÓ QUE PARA COTAS\n",
    "total_cotas_compra = df_final.query('OPERAÇÃO == \"Compra\"')['VAR_COTAS'].sum()\n",
    "total_cotas_venda = df_final.query('OPERAÇÃO == \"Venda\"')['VAR_COTAS'].sum()\n",
    "\n",
    "#COMPARANDO A QUANTIDADE DE COMPRA X VENDA (O VALOR DEVE SER IGUAL OU ESTAR PRÓXIMO, CASO A DIFERENÇA SEJA DISCREPANTE, SIGNIFICA QUE EXISTE ALGUM ERRO DE CALCULO OU SEPARAÇÃO)\n",
    "print('O total de cotas compradas foi {}, e o total de cotas vendidas foi {}'.format(total_cotas_compra, total_cotas_venda))"
   ]
  },
  {
   "cell_type": "markdown",
   "metadata": {},
   "source": [
    "# 18."
   ]
  },
  {
   "cell_type": "code",
   "execution_count": null,
   "metadata": {},
   "outputs": [],
   "source": [
    "daytrade = cotas_dia-total_cotas_compra\n",
    "\n",
    "part_B3 = (total_cotas_compra/cotas_dia)\n",
    "part_daytrade = (daytrade/cotas_dia)\n",
    "\n",
    "total_PF = df_final.query('PF_PJ == \"PF\"')['TOTAL_NOVO'].sum()\n",
    "total_PJ = df_final.query('PF_PJ == \"PJ\"')['TOTAL_NOVO'].sum()\n",
    "Total = df_final['TOTAL_NOVO'].sum()\n",
    "\n",
    "part_pf = (total_PF/Total)\n",
    "part_pj = (total_PJ/Total)\n",
    "\n",
    "data = {'B3':[part_B3],\n",
    "        'DT':[part_daytrade],\n",
    "        'PF':[part_pf],\n",
    "         'PJ':[part_pj]}\n",
    "\n",
    "tab_GAME11_b3xDT = pd.DataFrame(data)\n",
    "\n",
    "tab_GAME11_b3xDT"
   ]
  },
  {
   "cell_type": "markdown",
   "metadata": {},
   "source": [
    "# 19."
   ]
  },
  {
   "cell_type": "code",
   "execution_count": null,
   "metadata": {},
   "outputs": [],
   "source": [
    "plim = df_final.groupby(by = ['CATEGORIAS', 'OPERAÇÃO', 'PF_PJ'])['VAR_PRECO'].sum().reset_index()\n",
    "\n",
    "plim.set_index('CATEGORIAS')\n",
    "\n",
    "plim['CATEGORIAS'] = plim['CATEGORIAS'].astype(str)\n",
    "\n",
    "plim['OPERAÇÃO_PF_PJ'] = plim['OPERAÇÃO'] + ' ' + plim['PF_PJ']\n",
    "\n",
    "plim['VAR_PRECO'] = np.where(plim['OPERAÇÃO_PF_PJ'] == \"Venda PF\", \n",
    "                                                 plim['VAR_PRECO']* -1,\n",
    "                                                 plim['VAR_PRECO'])\n",
    "\n",
    "plim['VAR_PRECO'] = np.where(plim['OPERAÇÃO_PF_PJ'] == \"Venda PJ\", \n",
    "                                                 plim['VAR_PRECO']* -1,\n",
    "                                                 plim['VAR_PRECO'])\n",
    "\n",
    "plim['% PARTICIPAÇÃO'] = ((plim['VAR_PRECO']/(total_compra))*100).round(2)\n",
    "\n",
    "mapeamento = {'1': '0-1k', '2':'1k-5k', '3':'5k-20k', '4':'20k-50k', '5':'50k-100k', '6':'100k-500k', '7':'500k-1M', '8':'1M-3M', '9':'3M-15M','10':'>15M'}\n",
    "\n",
    "plim['CLASSE_CATEGORIA'] = plim['CATEGORIAS'].map(mapeamento)\n",
    "\n",
    "plim['CATEGORIAS'] = plim['CATEGORIAS'].astype(int)\n",
    "\n",
    "plim = plim.sort_values(by='CATEGORIAS')\n",
    "\n",
    "plim['VAR_PRECO'].astype(float)\n",
    "\n",
    "plim['VAR_PRECO'] = plim['VAR_PRECO'].round(2)\n",
    "\n",
    "plim"
   ]
  },
  {
   "cell_type": "markdown",
   "metadata": {},
   "source": [
    "# 20."
   ]
  },
  {
   "cell_type": "code",
   "execution_count": null,
   "metadata": {},
   "outputs": [],
   "source": [
    "def corrigir_categoria(plim):\n",
    "    opp = plim['OPERAÇÃO'].unique()\n",
    "    falta_compra = 'Compra' not in opp\n",
    "    falta_venda = 'Venda' not in opp\n",
    "\n",
    "    linhas_manteve = plim[plim['OPERAÇÃO'] == 'Manteve']\n",
    "    \n",
    "    for idx, row in plim.iterrows():\n",
    "        if row['OPERAÇÃO'] == 'Manteve':\n",
    "            if falta_venda:\n",
    "                plim.at[idx, 'OPERAÇÃO'] = 'Venda'\n",
    "                plim.at[idx, 'OPERAÇÃO_PF_PJ'] = f\"Venda {row['PF_PJ']}\"\n",
    "                falta_venda = False\n",
    "                continue\n",
    "            elif falta_compra:\n",
    "                plim.at[idx, 'OPERAÇÃO'] = 'Compra'\n",
    "                plim.at[idx, 'OPERAÇÃO_PF_PJ'] = f\"Compra {row['PF_PJ']}\"\n",
    "                falta_compra = False\n",
    "                continue\n",
    "\n",
    "    # Se ainda estiver faltando e só havia uma linha (ex: categoria 7 com apenas um \"Manteve\")\n",
    "    if len(plim) == 1:\n",
    "        row = plim.iloc[0]\n",
    "        if falta_compra:\n",
    "            nova_linha = row.copy()\n",
    "            nova_linha['OPERAÇÃO'] = 'Compra'\n",
    "            nova_linha['OPERAÇÃO_PF_PJ'] = f\"Compra {row['PF_PJ']}\"\n",
    "            nova_linha['% PARTICIPAÇÃO'] = 0.0\n",
    "            nova_linha['VAR_PRECO'] = 0.0\n",
    "            plim = pd.concat([plim, pd.DataFrame([nova_linha])], ignore_index=True)\n",
    "        elif falta_venda:\n",
    "            nova_linha = row.copy()\n",
    "            nova_linha['OPERAÇÃO'] = 'Venda'\n",
    "            nova_linha['OPERAÇÃO_PF_PJ'] = f\"Venda {row['PF_PJ']}\"\n",
    "            nova_linha['% PARTICIPAÇÃO'] = 0.0\n",
    "            nova_linha['VAR_PRECO'] = 0.0\n",
    "            plim = pd.concat([plim, pd.DataFrame([nova_linha])], ignore_index=True)\n",
    "\n",
    "    return plim\n",
    "\n",
    "\n",
    "df_corrigido = (\n",
    "    plim.groupby('CATEGORIAS', group_keys=False)\n",
    "    .apply(corrigir_categoria)\n",
    ")\n",
    "\n",
    "df_corrigido1 = pd.DataFrame(df_corrigido)\n",
    "\n",
    "df_corrigido1"
   ]
  },
  {
   "cell_type": "markdown",
   "metadata": {},
   "source": [
    "# 21."
   ]
  },
  {
   "cell_type": "code",
   "execution_count": null,
   "metadata": {},
   "outputs": [],
   "source": [
    "graf1 = df_final.groupby(by = ['CATEGORIAS', 'OPERAÇÃO', 'PF_PJ'])['VAR_PRECO'].sum().reset_index()\n",
    "\n",
    "graf1.set_index('CATEGORIAS')\n",
    "\n",
    "graf1['CATEGORIAS'] = graf1['CATEGORIAS'].astype(str)\n",
    "\n",
    "#graf.loc[(graf['CATEGORIAS'] == '1') & (graf['PF_PJ'] == 'PF') & (graf['OPERAÇÃO'] == 'Manteve'), 'OPERAÇÃO'] = 'Compra'\n",
    "#graf.loc[(graf['CATEGORIAS'] == '1') & (graf['PF_PJ'] == 'PJ') & (graf['OPERAÇÃO'] == 'Manteve'), 'OPERAÇÃO'] = 'Venda'\n",
    "\n",
    "#graf.loc[(graf['CATEGORIAS'] == '2') & (graf['PF_PJ'] == 'PF') & (graf['OPERAÇÃO'] == 'Manteve'), 'OPERAÇÃO'] = 'Compra'\n",
    "#graf.loc[(graf['CATEGORIAS'] == '2') & (graf['PF_PJ'] == 'PJ') & (graf['OPERAÇÃO'] == 'Manteve'), 'OPERAÇÃO'] = 'Venda'\n",
    "\n",
    "#graf.loc[(graf['CATEGORIAS'] == '3') & (graf['PF_PJ'] == 'PF') & (graf['OPERAÇÃO'] == 'Manteve'), 'OPERAÇÃO'] = 'Compra'\n",
    "#graf1.loc[(graf1['CATEGORIAS'] == '3') & (graf1['PF_PJ'] == 'PJ') & (graf1['OPERAÇÃO'] == 'Manteve'), 'OPERAÇÃO'] = 'Venda'\n",
    "\n",
    "#graf1.loc[(graf1['CATEGORIAS'] == '4') & (graf1['PF_PJ'] == 'PF') & (graf1['OPERAÇÃO'] == 'Manteve'), 'OPERAÇÃO'] = 'Venda'\n",
    "#graf1.loc[(graf1['CATEGORIAS'] == '4') & (graf1['PF_PJ'] == 'PJ') & (graf1['OPERAÇÃO'] == 'Manteve'), 'OPERAÇÃO'] = 'Compra'\n",
    "\n",
    "#graf1.loc[(graf1['CATEGORIAS'] == '5') & (graf1['PF_PJ'] == 'PF') & (graf1['OPERAÇÃO'] == 'Manteve'), 'OPERAÇÃO'] = 'Venda'\n",
    "#graf1.loc[(graf1['CATEGORIAS'] == '5') & (graf1['PF_PJ'] == 'PF') & (graf1['OPERAÇÃO'] == 'Manteve'), 'OPERAÇÃO'] = 'Compra'\n",
    "\n",
    "#graf1.loc[(graf1['CATEGORIAS'] == '6') & (graf1['PF_PJ'] == 'PF') & (graf1['OPERAÇÃO'] == 'Manteve'), 'OPERAÇÃO'] = 'Compra'\n",
    "#graf1.loc[(graf1['CATEGORIAS'] == '6') & (graf1['PF_PJ'] == 'PJ') & (graf1['OPERAÇÃO'] == 'Manteve'), 'OPERAÇÃO'] = 'Venda'\n",
    "\n",
    "#graf1.loc[(graf1['CATEGORIAS'] == '7') & (graf1['PF_PJ'] == 'PF') & (graf1['OPERAÇÃO'] == 'Manteve'), 'OPERAÇÃO'] = 'Venda'\n",
    "#graf1.loc[(graf1['CATEGORIAS'] == '7') & (graf1['PF_PJ'] == 'PF') & (graf1['OPERAÇÃO'] == 'Manteve'), 'OPERAÇÃO'] = 'Compra'\n",
    "\n",
    "#graf1.loc[(graf1['CATEGORIAS'] == '8') & (graf1['PF_PJ'] == 'PF') & (graf1['OPERAÇÃO'] == 'Manteve'), 'OPERAÇÃO'] = 'Venda'\n",
    "#graf1.loc[(graf1['CATEGORIAS'] == '8') & (graf1['PF_PJ'] == 'PJ') & (graf1['OPERAÇÃO'] == 'Manteve'), 'OPERAÇÃO'] = 'Compra'\n",
    "\n",
    "#graf1.loc[(graf1['CATEGORIAS'] == '9') & (graf1['PF_PJ'] == 'PF') & (graf1['OPERAÇÃO'] == 'Manteve'), 'OPERAÇÃO'] = 'Venda'\n",
    "#graf1.loc[(graf1['CATEGORIAS'] == '9') & (graf1['PF_PJ'] == 'PJ') & (graf1['OPERAÇÃO'] == 'Manteve'), 'OPERAÇÃO'] = 'Compra'\n",
    "\n",
    "#graf1.loc[(graf1['CATEGORIAS'] == '10') & (graf1['PF_PJ'] == 'PF') & (graf1['OPERAÇÃO'] == 'Manteve'), 'OPERAÇÃO'] = 'Venda'\n",
    "#graf1.loc[(graf1['CATEGORIAS'] == '10') & (graf1['PF_PJ'] == 'PJ') & (graf1['OPERAÇÃO'] == 'Manteve'), 'OPERAÇÃO'] = 'Venda'\n",
    "\n",
    "graf1['VAR_PRECO'] = np.where(graf1['OPERAÇÃO'] == \"Venda\", \n",
    "                                                 graf1['VAR_PRECO']* -1,\n",
    "                                                 graf1['VAR_PRECO'])\n",
    "\n",
    "graf1['OPERAÇÃO_PF_PJ'] = graf1['OPERAÇÃO'] + ' ' + graf1['PF_PJ']\n",
    "\n",
    "graf1 = graf1[graf1['OPERAÇÃO'] != 'Manteve']\n",
    "\n",
    "graf1['% PARTICIPAÇÃO'] = ((graf1['VAR_PRECO']/(total_compra))*100).round(2)\n",
    "\n",
    "mapeamento = {'1': '0-1k', '2':'1k-5k', '3':'5k-20k', '4':'20k-50k', '5':'50k-100k', '6':'100k-500k', '7':'500k-1M', '8':'1M-3M', '9':'3M-15M','10':'>15M'}\n",
    "\n",
    "graf1['CLASSE_CATEGORIA'] = graf1['CATEGORIAS'].map(mapeamento)\n",
    "\n",
    "graf1['CATEGORIAS'] = graf1['CATEGORIAS'].astype(int)\n",
    "\n",
    "graf1 = graf1.sort_values(by='CATEGORIAS')\n",
    "\n",
    "graf1['VAR_PRECO'].astype(float)\n",
    "\n",
    "graf1['VAR_PRECO'] = graf1['VAR_PRECO'].round(2)\n",
    "\n",
    "graf1"
   ]
  },
  {
   "cell_type": "markdown",
   "metadata": {},
   "source": [
    "# 22."
   ]
  },
  {
   "cell_type": "code",
   "execution_count": null,
   "metadata": {},
   "outputs": [],
   "source": [
    "graf1 = df_corrigido1.groupby(by = ['CATEGORIAS', 'OPERAÇÃO', 'PF_PJ'])['VAR_PRECO'].sum().reset_index()\n",
    "\n",
    "graf1.set_index('CATEGORIAS')\n",
    "\n",
    "graf1['CATEGORIAS'] = graf1['CATEGORIAS'].astype(str)\n",
    "\n",
    "graf1['OPERAÇÃO_PF_PJ'] = graf1['OPERAÇÃO'] + ' ' + graf1['PF_PJ']\n",
    "\n",
    "graf1 = graf1[graf1['OPERAÇÃO'] != 'Manteve']\n",
    "\n",
    "graf1['% PARTICIPAÇÃO'] = ((graf1['VAR_PRECO']/(total_compra))*100).round(2)\n",
    "\n",
    "mapeamento = {'1': '0-1k', '2':'1k-5k', '3':'5k-20k', '4':'20k-50k', '5':'50k-100k', '6':'100k-500k', '7':'500k-1M', '8':'1M-3M', '9':'3M-15M','10':'>15M'}\n",
    "\n",
    "graf1['CLASSE_CATEGORIA'] = graf1['CATEGORIAS'].map(mapeamento)\n",
    "\n",
    "graf1['CATEGORIAS'] = graf1['CATEGORIAS'].astype(int)\n",
    "\n",
    "graf1 = graf1.sort_values(by='CATEGORIAS')\n",
    "\n",
    "graf1['VAR_PRECO'].astype(float)\n",
    "\n",
    "graf1['VAR_PRECO'] = graf1['VAR_PRECO'].round(2)\n",
    "\n",
    "graf1"
   ]
  },
  {
   "cell_type": "markdown",
   "metadata": {},
   "source": [
    "# 23."
   ]
  },
  {
   "cell_type": "code",
   "execution_count": null,
   "metadata": {},
   "outputs": [],
   "source": [
    "qtde_cotas = df_final.groupby(by = ['CATEGORIAS', 'PF_PJ'])['TOTAL_NOVO'].sum().reset_index()\n",
    "\n",
    "qtde_cotas.set_index('CATEGORIAS')\n",
    "\n",
    "qtde_cotas['CATEGORIAS'] = qtde_cotas['CATEGORIAS'].astype(str)\n",
    "\n",
    "qtde_cotas['% TOTAL'] = (qtde_cotas['TOTAL_NOVO']/21697677)*100"
   ]
  },
  {
   "cell_type": "markdown",
   "metadata": {},
   "source": [
    "# 24."
   ]
  },
  {
   "cell_type": "code",
   "execution_count": null,
   "metadata": {},
   "outputs": [],
   "source": [
    "fig, ax = plt.subplots(figsize = (8, 4))\n",
    "\n",
    "sb.barplot(data= qtde_cotas,\n",
    "           x = '% TOTAL',\n",
    "           y = 'CATEGORIAS',\n",
    "           hue = 'PF_PJ',\n",
    "           ax=ax,\n",
    "           palette={'PF':'#91BDE7', 'PJ':'#4E95D9'},\n",
    "           dodge=True,\n",
    "           width = 0.6)\n",
    "\n",
    "\n",
    "ylabels= [\n",
    "    '0 a 1k',\n",
    "    '1k a 5k',\n",
    "    '5k a 20k',\n",
    "    '20k a 50k',\n",
    "    '50k a 100k',\n",
    "    '100k a 500k',\n",
    "    '500k a 1M',\n",
    "    '1M a 3M',\n",
    "    '3M a 15M',\n",
    "    '> 15M'\n",
    "]\n",
    "\n",
    "ax.set_yticks(range(len(ylabels)))\n",
    "ax.set_yticklabels(ylabels, fontsize=9, fontproperties = Avenir)\n",
    "#ax.set_yticklabels(graf['CATEGORIAS'].unique())\n",
    "#ax.yaxis.set_tick_params(labelsize = (14))\n",
    "\n",
    "for p in ax.patches:\n",
    "    # Obtém a largura (valor de x) e a posição do centro da barra\n",
    "    x = p.get_width()\n",
    "    y = p.get_y() + p.get_height() / 2\n",
    "    \n",
    "    # Adicionar rótulos formatados com separador de milhares e sem casas decimais\n",
    "    if abs(x) >= 1:\n",
    "        ax.text(\n",
    "            x + (0.01 * x) if x >= 0 else x - (0.01 * abs(x)),  # Ajusta o posicionamento do texto com base no sinal\n",
    "            y, \n",
    "            f'{x:.2f}%',\n",
    "            ha='left' if x >= 0 else 'right',  # Ajusta a posição horizontal do texto\n",
    "            va='center',\n",
    "            color='black',\n",
    "            fontsize=9,\n",
    "            fontproperties=Avenir\n",
    "        )\n",
    "\n",
    "# Ajustar os spines (bordas) do gráfico\n",
    "ax.spines['top'].set_visible(False)\n",
    "ax.spines['right'].set_visible(False)\n",
    "ax.spines['left'].set_visible(True)\n",
    "ax.spines['bottom'].set_visible(False)\n",
    "ax.get_xaxis().set_visible(False)\n",
    "\n",
    "\n",
    "\n",
    "\n",
    "# Definir rótulos e título\n",
    "ax.set_xlabel('')\n",
    "ax.set_ylabel('')\n",
    "ax.legend(title='Cotista', loc='upper right', fontsize = 8)\n",
    "\n",
    "# Ajustar layout para evitar sobreposição\n",
    "plt.tight_layout()\n",
    "\n",
    "fig.savefig('COTAS_POR_CATEGORIA_GAME.png', transparent = True, dpi=300, bbox_inches='tight')\n",
    "\n",
    "plt.show()"
   ]
  },
  {
   "cell_type": "markdown",
   "metadata": {},
   "source": [
    "# 25."
   ]
  },
  {
   "cell_type": "code",
   "execution_count": null,
   "metadata": {},
   "outputs": [],
   "source": [
    "graf_compra = graf1[graf1['OPERAÇÃO'] == 'Compra']\n",
    "\n",
    "#graf_compra['VAR_PRECO'] = np.where(graf_compra['PF_PJ'] == 'PJ', \n",
    " #                                               graf_compra['VAR_PRECO']+0.20,\n",
    "  #                                              graf_compra['VAR_PRECO'])\n",
    "\n",
    "#graf_compra = graf_compra[graf_compra['VAR_PRECO'] > 0.01]\n",
    "\n",
    "graf_compra['CATEGORIAS'] = graf_compra['CATEGORIAS'].astype(str)\n",
    "\n",
    "#graf_compra['OPERAÇÃO_PF_PJ'] = graf_compra['OPERAÇÃO'] + ' ' + graf_compra['PF_PJ']\n",
    "\n",
    "graf_compra['VAR_PRECO'] = graf_compra['VAR_PRECO']\n",
    "\n",
    "graf_compra['% PARTICIPAÇÃO'] = ((graf_compra['VAR_PRECO']/(total_venda))*100).round(2)\n",
    "\n",
    "graf_compra['CLASSE_CATEGORIA'] = graf_compra['CATEGORIAS'].map(mapeamento)\n",
    "\n",
    "graf_compra"
   ]
  },
  {
   "cell_type": "markdown",
   "metadata": {},
   "source": [
    "# 26."
   ]
  },
  {
   "cell_type": "code",
   "execution_count": null,
   "metadata": {},
   "outputs": [],
   "source": [
    "# Suponha que seu DataFrame se chame 'graf' e tenha as colunas 'Categorias', 'Operação', e 'Delta_financeiro'\n",
    "fig, ax = plt.subplots(figsize=(10, 6))\n",
    "\n",
    "# Definir os ticks do eixo x com intervalos personalizados\n",
    "#plt.xticks([0, 1000, 5000, 10000, 20000, 50000, 100000, 500000, 1000000, 5000000, 15000000])\n",
    "\n",
    "# Criar gráfico de barras horizontais com Seaborn, separando por 'Operação'\n",
    "sb.barplot(\n",
    "    data=graf_compra, \n",
    "    x='% PARTICIPAÇÃO', \n",
    "    y='CLASSE_CATEGORIA', \n",
    "    hue='OPERAÇÃO_PF_PJ',\n",
    "    dodge=True,\n",
    "    ax=ax,\n",
    "    palette={'Compra PF': '#3B5279', 'Compra PJ': '#91BDE7','Manteve PF':'#EAE7E8', 'Manteve PJ':'#2F5597'},\n",
    "    orient='h',\n",
    "    width=1\n",
    ")\n",
    "\n",
    "xmin, xmax = ax.get_xlim()\n",
    "for i in range(len(graf1['CLASSE_CATEGORIA'].unique()) - 1):\n",
    "    ax.hlines(y=i + 0.5, xmin=xmin, xmax=xmax, color='black', linestyle='--', linewidth=0.8)\n",
    "\n",
    "\n",
    "ax.set_yticklabels(graf1['CLASSE_CATEGORIA'].unique())\n",
    "ax.yaxis.set_tick_params(labelsize = (10))\n",
    "\n",
    "\n",
    "# Adicionar rótulos nas barras\n",
    "for p in ax.patches:\n",
    "    # Obtém a largura (valor de x) e a posição do centro da barra\n",
    "    x = p.get_width()\n",
    "    y = p.get_y() + p.get_height() / 2\n",
    "    \n",
    "    # Adicionar rótulos formatados com separador de milhares e sem casas decimais\n",
    "    if abs(x):\n",
    "        ax.text(\n",
    "            x + (0.01 * abs(x)) if x >= 0 else x - (0.01 * abs(x)),  # Ajusta o posicionamento do texto com base no sinal\n",
    "            y, \n",
    "            f'{abs(x):,.2f}%',\n",
    "            ha='left' if x >= 0 else 'right',  # Ajusta a posição horizontal do texto\n",
    "            va='center',\n",
    "            color='black',\n",
    "            fontsize=9,\n",
    "            fontproperties = Avenir\n",
    "        )\n",
    "\n",
    "# Ajustar os spines (bordas) do gráfico\n",
    "ax.spines['top'].set_visible(False)\n",
    "ax.spines['right'].set_visible(False)\n",
    "ax.spines['left'].set_visible(False)\n",
    "ax.spines['bottom'].set_visible(False)\n",
    "ax.get_xaxis().set_visible(False)\n",
    "ax.get_yaxis().set_visible(False)\n",
    "\n",
    "# Definir rótulos e título\n",
    "ax.set_xlabel('')\n",
    "ax.set_ylabel('')\n",
    "ax.legend(title='Operação', loc='upper right', fontsize = 0.05)\n",
    "\n",
    "# Ajustar layout para evitar sobreposição\n",
    "plt.tight_layout()\n",
    "\n",
    "fig.savefig('COMPRA_PF_E_PJ_GAME', transparent = True, dpi=500, bbox_inches='tight')\n",
    "\n",
    "# Exibir o gráfico\n",
    "plt.show()"
   ]
  },
  {
   "cell_type": "markdown",
   "metadata": {},
   "source": [
    "# 27."
   ]
  },
  {
   "cell_type": "code",
   "execution_count": null,
   "metadata": {},
   "outputs": [],
   "source": [
    "graf_venda1 = graf1[graf1['OPERAÇÃO'] != 'Compra']\n",
    "\n",
    "graf_venda = graf_venda1[graf_venda1['OPERAÇÃO_PF_PJ'] != 'Compra PJ']\n",
    "\n",
    "graf_venda['CATEGORIAS'] = graf_venda['CATEGORIAS'].astype(str)\n",
    "\n",
    "#graf_compra['OPERAÇÃO_PF_PJ'] = graf_compra['OPERAÇÃO'] + ' ' + graf_compra['PF_PJ']\n",
    "\n",
    "graf_venda['VAR_PRECO'] = graf_venda['VAR_PRECO']\n",
    "\n",
    "graf_venda['% PARTICIPAÇÃO'] = ((graf_venda['VAR_PRECO']/(total_venda))*100).round(2)\n",
    "\n",
    "graf_venda['CLASSE_CATEGORIA'] = graf_venda['CATEGORIAS'].map(mapeamento)\n",
    "\n",
    "graf_venda"
   ]
  },
  {
   "cell_type": "markdown",
   "metadata": {},
   "source": [
    "# 28."
   ]
  },
  {
   "cell_type": "code",
   "execution_count": null,
   "metadata": {},
   "outputs": [],
   "source": [
    "# Suponha que seu DataFrame se chame 'graf' e tenha as colunas 'Categorias', 'Operação', e 'Delta_financeiro'\n",
    "fig, ax = plt.subplots(figsize=(10, 6))\n",
    "\n",
    "# Definir os ticks do eixo x com intervalos personalizados\n",
    "#plt.xticks([0, 1000, 5000, 10000, 20000, 50000, 100000, 500000, 1000000, 5000000, 15000000])\n",
    "\n",
    "# Criar gráfico de barras horizontais com Seaborn, separando por 'Operação'\n",
    "sb.barplot(\n",
    "    data=graf_venda, \n",
    "    x='% PARTICIPAÇÃO', \n",
    "    y='CLASSE_CATEGORIA', \n",
    "    hue='OPERAÇÃO_PF_PJ',\n",
    "    dodge=True,\n",
    "    ax=ax,\n",
    "    palette={'Venda PF': '#767070', 'Venda PJ': '#C6C4C4','Manteve PF':'#EAE7E8', 'Manteve PJ':'#2F5597'},\n",
    "    orient='h',\n",
    "    width=1\n",
    ")\n",
    "\n",
    "xmin, xmax = ax.get_xlim()\n",
    "for i in range(len(graf1['CLASSE_CATEGORIA'].unique()) - 1):\n",
    "    ax.hlines(y=i + 0.5, xmin=xmin, xmax=xmax, color='black', linestyle='--', linewidth=0.8)\n",
    "\n",
    "#ax.vlines(x=0, ymin=-0.5, ymax=len(graf['CATEGORIAS'].unique()) - 0.5, color='black', linestyle='-', linewidth=1.5)\n",
    "\n",
    "#ticks = [100000, 500000, 1000000, 2000000]\n",
    "#ax.set_xticks(ticks)\n",
    "#ax.set_xticklabels([f'R${x:,}' for x in ticks])\n",
    "#ax.xaxis.set_tick_params(labelsize = (12))\n",
    "\n",
    "#ax.set_yticks(range(len(ylabels)))\n",
    "#ax.set_yticklabels(ylabels, fontsize=11, fontproperties = Avenir)\n",
    "ax.set_yticklabels(graf1['CLASSE_CATEGORIA'].unique())\n",
    "ax.yaxis.set_tick_params(labelsize = (10))\n",
    "\n",
    "\n",
    "# Adicionar rótulos nas barras\n",
    "for p in ax.patches:\n",
    "    # Obtém a largura (valor de x) e a posição do centro da barra\n",
    "    x = p.get_width()\n",
    "    y = p.get_y() + p.get_height() / 2\n",
    "    \n",
    "    # Adicionar rótulos formatados com separador de milhares e sem casas decimais\n",
    "    if abs(x):\n",
    "        ax.text(\n",
    "            x + (0.01 * abs(x)) if x >= 0 else x - (0.01 * abs(x)),  # Ajusta o posicionamento do texto com base no sinal\n",
    "            y, \n",
    "            f'{abs(x):,.2f}%',\n",
    "            ha='left' if x >= 0 else 'right',  # Ajusta a posição horizontal do texto\n",
    "            va='center',\n",
    "            color='black',\n",
    "            fontsize=9,\n",
    "            fontproperties = Avenir\n",
    "        )\n",
    "\n",
    "# Ajustar os spines (bordas) do gráfico\n",
    "ax.spines['top'].set_visible(False)\n",
    "ax.spines['right'].set_visible(False)\n",
    "ax.spines['left'].set_visible(True)\n",
    "ax.spines['bottom'].set_visible(False)\n",
    "ax.get_xaxis().set_visible(False)\n",
    "ax.get_yaxis().set_visible(True)\n",
    "\n",
    "# Definir rótulos e título\n",
    "ax.set_xlabel('')\n",
    "ax.set_ylabel('')\n",
    "ax.legend(title='Operação', loc='lower right', fontsize = 1)\n",
    "\n",
    "# Ajustar layout para evitar sobreposição\n",
    "plt.tight_layout()\n",
    "\n",
    "fig.savefig('VENDA_PF_E_PJ_GAME', transparent = True, dpi=500, bbox_inches='tight')\n",
    "\n",
    "# Exibir o gráfico\n",
    "plt.show()"
   ]
  },
  {
   "cell_type": "markdown",
   "metadata": {},
   "source": [
    "# 29."
   ]
  },
  {
   "cell_type": "code",
   "execution_count": null,
   "metadata": {},
   "outputs": [],
   "source": [
    "cat = 'CATEGORIAS'\n",
    "cat_atuais = 'CATEGORIAS ATUAIS'\n",
    "Nome = 'NOME'\n",
    "doc = 'DOCUMENTO'\n",
    "fin_mov = 'VAR_PRECO'\n",
    "qtde_mov = 'VAR_COTAS'\n",
    "Op = 'OPERAÇÃO'\n",
    "tipo = 'PF_PJ'\n",
    "\n",
    "TOP10_Compra = df_final.query('OPERAÇÃO == \"Compra\"')[[Nome,cat,tipo,fin_mov,cat_atuais]]\n",
    "\n",
    "TOP10_Compra = TOP10_Compra.sort_values(by = ['VAR_PRECO'], ascending=False).iloc[:10, :]\n",
    "\n",
    "TOP10_Compra['VAR_PRECO'] = TOP10_Compra['VAR_PRECO'].apply(lambda x: '{:.2f}'.format(x))\n",
    "\n",
    "mapear = {1: '0-1k', 2:'1k-5k', 3:'5k-20k', 4:'20k-50k', 5:'50k-100k', 6:'100k-500k', 7:'500k-1M', 8:'1M-3M', 9:'3M-15M', 10:'>15M'}\n",
    "\n",
    "TOP10_Compra['CATEGORIAS'] = TOP10_Compra['CATEGORIAS'].map(mapear)\n",
    "\n",
    "TOP10_Compra = TOP10_Compra.set_index('NOME')\n",
    "\n",
    "TOP10_Compra"
   ]
  },
  {
   "cell_type": "markdown",
   "metadata": {},
   "source": [
    "# 30."
   ]
  },
  {
   "cell_type": "code",
   "execution_count": null,
   "metadata": {},
   "outputs": [],
   "source": [
    "cat = 'CATEGORIAS'\n",
    "cat_atuais = 'CATEGORIAS ATUAIS'\n",
    "Nome = 'NOME'\n",
    "doc = 'DOCUMENTO'\n",
    "fin_mov = 'VAR_PRECO'\n",
    "qtde_mov = 'VAR_COTAS'\n",
    "Op = 'OPERAÇÃO'\n",
    "tipo = 'PF_PJ'\n",
    "qtde = 'TOTAL_NOVO'\n",
    "\n",
    "TOP10_Venda = df_final.query('OPERAÇÃO == \"Venda\"')[[Nome,cat,tipo,fin_mov,cat_atuais]]\n",
    "\n",
    "TOP10_Venda = TOP10_Venda.sort_values(by = ['VAR_PRECO'], ascending=False).iloc[:10, :]\n",
    "\n",
    "TOP10_Venda['VAR_PRECO'] = TOP10_Venda['VAR_PRECO'].apply(lambda x: '{:.2f}'.format(x))\n",
    "\n",
    "TOP10_Venda = TOP10_Venda.set_index('NOME')\n",
    "\n",
    "mapear = {1: '0-1k', 2:'1k-5k', 3:'5k-20k', 4:'20k-50k', 5:'50k-100k', 6:'100k-500k', 7:'500k-1M', 8:'1M-3M', 9:'3M-15M', 10:'>15M'}\n",
    "\n",
    "TOP10_Venda['CATEGORIAS'] = TOP10_Venda['CATEGORIAS'].map(mapear)\n",
    "\n",
    "TOP10_Venda['CATEGORIAS ATUAIS'] = TOP10_Venda['CATEGORIAS ATUAIS'].fillna('0-1K')\n",
    "\n",
    "TOP10_Venda"
   ]
  },
  {
   "cell_type": "markdown",
   "metadata": {},
   "source": [
    "# 31."
   ]
  },
  {
   "cell_type": "code",
   "execution_count": null,
   "metadata": {},
   "outputs": [],
   "source": [
    "# Criar o Top 10 geral sem diversificar entre PF e PJ\n",
    "TOP10_Geral = df_final[[Nome, tipo, cat, qtde]]\n",
    "\n",
    "# Ordenar os valores pela coluna 'TOTAL_NOVO' em ordem decrescente e pegar os 10 maiores\n",
    "TOP10_Geral = TOP10_Geral.sort_values(by=['TOTAL_NOVO'], ascending=False).iloc[:15, :]\n",
    "\n",
    "# Renomear a coluna 'TOTAL_NOVO' para 'COTAS'\n",
    "TOP10_Geral = TOP10_Geral.rename(columns={'TOTAL_NOVO': 'COTAS'})\n",
    "\n",
    "mapear = {1: '0-1k', 2:'1k-5k', 3:'5k-20k', 4:'20k-50k', 5:'50k-100k', 6:'100k-500k', 7:'500k-1M', 8:'1M-3M', 9:'3M-15M', 10:'>15M'}\n",
    "\n",
    "TOP10_Geral['CATEGORIAS'] = TOP10_Geral['CATEGORIAS'].map(mapear)\n",
    "\n",
    "# Exibir o resultado\n",
    "TOP10_Geral"
   ]
  },
  {
   "cell_type": "markdown",
   "metadata": {},
   "source": [
    "# 32."
   ]
  },
  {
   "cell_type": "code",
   "execution_count": null,
   "metadata": {},
   "outputs": [],
   "source": [
    "#FAZENDO A ALTERAÇÃO DO VALOR ADICIONANDO O VALOR NOVO NO LUGAR DOS ANTIGOS (PARA AQUELES COTISTAS QUE MOVIMENTARAM)\n",
    "df_final['TOTAL_FINAL'] = np.where(df_final['OPERAÇÃO'].isin(['Compra', 'Venda']),\n",
    "                                   df_final['TOTAL_NOVO'],\n",
    "                                   df_final['TOTAL'])\n",
    "\n",
    "df_final1 = df_final.drop(columns = ['TOTAL_NOVO', 'TOTAL', 'VAR_COTAS', 'FINANCEIRO_ATUAL', 'FINANCEIRO_NOVO', 'VAR_PRECO', 'CATEGORIAS'])\n",
    "\n",
    "#RENOMEANDO A COLUNA DE TOTAL FINAL PARA TOTAL\n",
    "merge2 = df_final1.rename(columns = {'TOTAL_FINAL':'TOTAL'})\n",
    "\n",
    "# EXCLUINDO TODAS AS LINHAS QUE SÃO IGUAIS A 0\n",
    "merge2 = merge2[merge2['TOTAL'] != 0 ]\n",
    "\n",
    "#VERIFICANDO A QUANTIDADE DE COTAS (ESSE VALOR DEVE SER IGUAL OU EXTREMAMENTE PROXIMO DO VALOR DE COTAS DO TOTAL DO DF ANTIGO, ESSE NUMERO NÃO DEVE SE ALTERAR NUNCA)\n",
    "Tcotas = merge2['TOTAL'].sum()\n",
    "Tcotistas = merge2['DOCUMENTO'].value_counts()\n",
    "Tcotistas = merge2['DOCUMENTO'].nunique()\n",
    "\n",
    "print('O total de cotistas é de {}, e o total de cotas é {}'.format(Tcotistas, Tcotas))"
   ]
  },
  {
   "cell_type": "markdown",
   "metadata": {},
   "source": [
    "# 33."
   ]
  },
  {
   "cell_type": "code",
   "execution_count": null,
   "metadata": {},
   "outputs": [],
   "source": [
    "net_cotistas = {'TOTAL':[Tcotistas],\n",
    "        'Sairam':[zeraram],\n",
    "        'Entraram':[novos_cotistas]\n",
    "        }\n",
    "\n",
    "tab_C = pd.DataFrame(net_cotistas)\n",
    "\n",
    "tab_C"
   ]
  },
  {
   "cell_type": "markdown",
   "metadata": {},
   "source": [
    "# 34."
   ]
  },
  {
   "cell_type": "code",
   "execution_count": null,
   "metadata": {},
   "outputs": [],
   "source": [
    "base_semanal = df_final.drop(columns=['CHAVE', 'Participação'])\n",
    "base_semanal['CATEGORIAS ATUAIS'] = base_semanal['CATEGORIAS ATUAIS'].fillna('0-1k')\n",
    "base_semanal['% TOTAL'] = (base_semanal['TOTAL_FINAL']/21697677)\n",
    "base_semanal['DATA'] = data\n",
    "base_semanal_compra = base_semanal[base_semanal['OPERAÇÃO'] == 'Compra']\n",
    "base_semanal_venda = base_semanal[base_semanal['OPERAÇÃO'] == 'Venda']"
   ]
  },
  {
   "cell_type": "markdown",
   "metadata": {},
   "source": [
    "# 35."
   ]
  },
  {
   "cell_type": "code",
   "execution_count": null,
   "metadata": {},
   "outputs": [],
   "source": [
    "from pptx import Presentation\n",
    "from pptx.util import Inches, Pt, Cm\n",
    "\n",
    "#Caminho do PowerPoint1\n",
    "caminho_ppt = r\"g:\\.shortcut-targets-by-id\\1YZLLTFOuLniE6hO7WNHXl2c3MSa4TOv6\\X. GAME11\\GUARDIAN Institucional\\5. Planejamento & Processos\\2. 2023\\4. Research\\2025\\5. Inteligência Passivos Guardian\\2. RELATÓRIOS\\1. DIARIOS\\GAME\\Relatório_Passivos_GAME11_base.pptx\"\n",
    "imagem_path_cotas_por_faixa = r\"c:\\\\Users\\\\LucasCavalcante\\\\Desktop\\\\PASSIVO\\\\CODIGOS_PASSIVO\\\\COTAS_POR_CATEGORIA_GAME.png\"\n",
    "imagem_path_venda = r\"c:\\\\Users\\\\LucasCavalcante\\\\Desktop\\\\PASSIVO\\\\CODIGOS_PASSIVO\\\\VENDA_PF_E_PJ_GAME.png\"\n",
    "imagem_path_compra = r\"c:\\\\Users\\\\LucasCavalcante\\\\Desktop\\\\PASSIVO\\\\CODIGOS_PASSIVO\\\\COMPRA_PF_E_PJ_GAME.png\"\n",
    "\n",
    "#Abre a apresentação\n",
    "prs = Presentation(caminho_ppt)\n",
    "\n",
    "#Selecionando o primeiro slide\n",
    "slide = prs.slides[0]\n",
    "\n",
    "#Define a posição e o tamanho da imagem\n",
    "#Imagem Gráfico Cota por categoria\n",
    "left = Cm(0.05)\n",
    "top = Cm(23.36)\n",
    "width = Cm(10.42)\n",
    "height = Cm(5.19)\n",
    "\n",
    "#Imagem Gráfico Venda\n",
    "leftV = Cm(0.06)\n",
    "topV = Cm(11.2)\n",
    "widthV = Cm(9.95)\n",
    "heightV = Cm(6.05)\n",
    "\n",
    "#Imagem Gráfico Compra\n",
    "leftC = Cm(9.84)\n",
    "topC = Cm(11.24)\n",
    "widthC = Cm(9.01)\n",
    "heightC = Cm(6.03)\n",
    "\n",
    "#Adicionando a imagem ao slide\n",
    "slide.shapes.add_picture(imagem_path_cotas_por_faixa, left, top, width=width, height=height)\n",
    "slide.shapes.add_picture(imagem_path_venda, leftV, topV, width=widthV, height=heightV)\n",
    "slide.shapes.add_picture(imagem_path_compra, leftC, topC, width=widthC, height=heightC)\n",
    "\n",
    "#Salva a apresentação\n",
    "prs.save(r\"g:\\.shortcut-targets-by-id\\1YZLLTFOuLniE6hO7WNHXl2c3MSa4TOv6\\X. GAME11\\GUARDIAN Institucional\\5. Planejamento & Processos\\2. 2023\\4. Research\\2025\\5. Inteligência Passivos Guardian\\2. RELATÓRIOS\\1. DIARIOS\\GAME\\Relatorio_Passivos_GAME11_graficos.pptx\")"
   ]
  },
  {
   "cell_type": "markdown",
   "metadata": {},
   "source": [
    "# 36."
   ]
  },
  {
   "cell_type": "code",
   "execution_count": null,
   "metadata": {},
   "outputs": [],
   "source": [
    "# Caminhos\n",
    "caminho_arquivo = r\"C:\\Users\\LucasCavalcante\\Documents\\FORMATAR_CxV_BASE\\FORMATAR_COMPRAxVENDA_PASSIVO_GAME11_v7.xlsm\"\n",
    "caminho_destino = r\"C:\\Users\\LucasCavalcante\\Documents\\FORMATAR_CxV_MACRO\\FORMATAR_COMPRAxVENDA_PASSIVO_GAME11_v7.xlsm\"\n",
    "\n",
    "# DataFrames e locais onde serão colados\n",
    "dfs_cola = [\n",
    "    (tab_GAME11_b3xDT, 'BASE_TABELAS', 'I6'),\n",
    "    (TOP10_Compra, 'BASE_TABELAS', 'B13'),\n",
    "    (TOP10_Venda, 'BASE_TABELAS', 'B28'),\n",
    "    (tab_C, 'DADOS_BROADCAST_COTISTAS', 'T3'),\n",
    "    (TOP10_Geral, 'BASE_TABELAS', 'B43')\n",
    "]\n",
    "\n",
    "# Abrir Excel\n",
    "app = None\n",
    "wb = None\n",
    "\n",
    "try:\n",
    "    app = xw.App(visible=False)\n",
    "    wb = app.books.open(caminho_arquivo)\n",
    "\n",
    "    for df, aba, celula in dfs_cola:\n",
    "        try:\n",
    "            ws = wb.sheets[aba]\n",
    "            ws.range(celula).value = df\n",
    "        except Exception as e:\n",
    "            print(f\"❌ Erro ao colar na aba '{aba}' na célula {celula}: {e}\")\n",
    "\n",
    "    wb.save(caminho_destino)\n",
    "    print(f\"✅ Arquivo salvo com sucesso em: {caminho_destino}\")\n",
    "\n",
    "except Exception as e:\n",
    "    print(f\"❌ Erro geral ao processar o arquivo: {e}\")\n",
    "\n",
    "finally:\n",
    "    if wb:\n",
    "        wb.close()\n",
    "    if app:\n",
    "        app.quit()\n"
   ]
  }
 ],
 "metadata": {
  "kernelspec": {
   "display_name": ".venv (3.12.5)",
   "language": "python",
   "name": "python3"
  },
  "language_info": {
   "codemirror_mode": {
    "name": "ipython",
    "version": 3
   },
   "file_extension": ".py",
   "mimetype": "text/x-python",
   "name": "python",
   "nbconvert_exporter": "python",
   "pygments_lexer": "ipython3",
   "version": "3.12.5"
  }
 },
 "nbformat": 4,
 "nbformat_minor": 2
}
