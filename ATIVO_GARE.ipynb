{
 "cells": [
  {
   "cell_type": "code",
   "execution_count": 1,
   "metadata": {},
   "outputs": [],
   "source": [
    "import pandas as pd\n",
    "import yfinance as yf\n",
    "import numpy as np\n",
    "from datetime import datetime, timedelta\n",
    "import os\n",
    "import matplotlib.pyplot as plt"
   ]
  },
  {
   "cell_type": "code",
   "execution_count": 22,
   "metadata": {},
   "outputs": [
    {
     "name": "stdout",
     "output_type": "stream",
     "text": [
      "                           Open  High   Low  Close  Volume  Dividends  \\\n",
      "Date                                                                    \n",
      "2024-12-16 00:00:00-03:00  8.23  8.28  8.13   8.13  543796        0.0   \n",
      "2024-12-17 00:00:00-03:00  8.22  8.22  8.00   8.08  816412        0.0   \n",
      "\n",
      "                           Stock Splits  \n",
      "Date                                     \n",
      "2024-12-16 00:00:00-03:00           0.0  \n",
      "2024-12-17 00:00:00-03:00           0.0  \n"
     ]
    }
   ],
   "source": [
    "gare11 = yf.Ticker('GARE11.SA')\n",
    "hist = gare11.history(start='2024-12-16', end='2024-12-18', auto_adjust=True)\n",
    "print(hist)"
   ]
  },
  {
   "cell_type": "code",
   "execution_count": null,
   "metadata": {},
   "outputs": [],
   "source": []
  }
 ],
 "metadata": {
  "kernelspec": {
   "display_name": ".venv",
   "language": "python",
   "name": "python3"
  },
  "language_info": {
   "codemirror_mode": {
    "name": "ipython",
    "version": 3
   },
   "file_extension": ".py",
   "mimetype": "text/x-python",
   "name": "python",
   "nbconvert_exporter": "python",
   "pygments_lexer": "ipython3",
   "version": "3.12.5"
  }
 },
 "nbformat": 4,
 "nbformat_minor": 2
}
