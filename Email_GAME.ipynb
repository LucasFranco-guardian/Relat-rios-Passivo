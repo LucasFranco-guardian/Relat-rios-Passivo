{
 "cells": [
  {
   "cell_type": "code",
   "execution_count": null,
   "metadata": {},
   "outputs": [],
   "source": [
    "import smtplib\n",
    "import os\n",
    "from email.mime.multipart import MIMEMultipart\n",
    "from email.mime.text import MIMEText\n",
    "from email.mime.base import MIMEBase\n",
    "from email import encoders\n",
    "from datetime import datetime"
   ]
  },
  {
   "cell_type": "code",
   "execution_count": null,
   "metadata": {},
   "outputs": [],
   "source": [
    "'lc@guardian-asset.com', 'pmk@guardian-asset.com', 'msf@guardian-asset.com','cm@guardian-asset.com','lb@guardian-asset.com','ja@guardian-asset.com','gsa@guardian-asset.com', 'js@guardian-asset.com',\n",
    "'rg@guardian-asset.com','gvm@guardian-asset.com','tcs@guardian-asset.com', 'rt@guardian-asset.com','acl@guardian-asset.com'"
   ]
  },
  {
   "cell_type": "code",
   "execution_count": null,
   "metadata": {},
   "outputs": [],
   "source": [
    "def send_email_with_pdf(pdf_path):\n",
    "    # Configurações do remetente e destinatários\n",
    "    sender_email = 'lc@guardian-asset.com'  # Substitua pelo seu e-mail\n",
    "    sender_password = 'wwafykwsxuhslwwv'  # Substitua pela sua senha ou senha de aplicativo\n",
    "    recipient_email = ['lc@guardian-asset.com', 'pmk@guardian-asset.com', 'msf@guardian-asset.com','cm@guardian-asset.com','lb@guardian-asset.com','ja@guardian-asset.com','gsa@guardian-asset.com', \n",
    "                       'js@guardian-asset.com','rg@guardian-asset.com','gvm@guardian-asset.com','tcs@guardian-asset.com', 'rt@guardian-asset.com','acl@guardian-asset.com' ]  # Lista de destinatários\n",
    "\n",
    "    # Criando a mensagem\n",
    "    msg = MIMEMultipart()\n",
    "    msg['From'] = sender_email\n",
    "    msg['To'] = \", \".join(recipient_email)\n",
    "    msg['Subject'] = \"RELATÓRIO DE PASSIVO GAME DIA 11.12.2024\"\n",
    "\n",
    "    # Corpo do e-mail\n",
    "    body = \"Prezados, segue relatório do passivo do GAME do dia 11.12.2024\"\n",
    "    msg.attach(MIMEText(body, 'plain'))\n",
    "\n",
    "    # Anexar o arquivo PDF\n",
    "    try:\n",
    "        with open(pdf_path, \"rb\") as attachment:\n",
    "            part = MIMEBase(\"application\", \"octet-stream\")\n",
    "            part.set_payload(attachment.read())\n",
    "\n",
    "        # Codificar o arquivo em Base64\n",
    "        encoders.encode_base64(part)\n",
    "\n",
    "        # Adicionar cabeçalhos para o anexo\n",
    "        part.add_header(\n",
    "            \"Content-Disposition\",\n",
    "            f\"attachment; filename= {os.path.basename(pdf_path)}\",  # Nome do arquivo\n",
    "        )\n",
    "\n",
    "        # Anexar o arquivo PDF à mensagem\n",
    "        msg.attach(part)\n",
    "\n",
    "    except Exception as e:\n",
    "        print(f\"Falha ao anexar o arquivo: {e}\")\n",
    "        return\n",
    "\n",
    "    # Conectar ao servidor SMTP do Gmail e enviar o e-mail\n",
    "    try:\n",
    "        with smtplib.SMTP_SSL('smtp.gmail.com', 465) as smtp_server:\n",
    "            smtp_server.login(sender_email, sender_password)\n",
    "            smtp_server.sendmail(sender_email, recipient_email, msg.as_string())\n",
    "\n",
    "        print(f\"E-mail enviado para {', '.join(recipient_email)}\")\n",
    "\n",
    "    except Exception as e:\n",
    "        print(f\"Falha ao enviar e-mail: {e}\")\n",
    "\n",
    "# Exemplo de uso da função\n",
    "send_email_with_pdf(r\"g:\\.shortcut-targets-by-id\\1YZLLTFOuLniE6hO7WNHXl2c3MSa4TOv6\\X. GAME11\\GUARDIAN Institucional\\5. Planejamento & Processos\\2. 2023\\4. Research\\2025\\5. Inteligência Passivos Guardian\\2. RELATÓRIOS\\1. DIARIOS\\GAME\\Passivo_GAME11_15.04.2025.pdf\")"
   ]
  }
 ],
 "metadata": {
  "language_info": {
   "name": "python"
  }
 },
 "nbformat": 4,
 "nbformat_minor": 2
}
